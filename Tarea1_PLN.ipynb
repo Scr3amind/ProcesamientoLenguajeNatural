{
  "nbformat": 4,
  "nbformat_minor": 0,
  "metadata": {
    "colab": {
      "name": "Tarea1_PLN.ipynb",
      "provenance": [],
      "collapsed_sections": [],
      "authorship_tag": "ABX9TyPbFJxG/iwdydbQNsBQ5bI2",
      "include_colab_link": true
    },
    "kernelspec": {
      "name": "python3",
      "display_name": "Python 3"
    }
  },
  "cells": [
    {
      "cell_type": "markdown",
      "metadata": {
        "id": "view-in-github",
        "colab_type": "text"
      },
      "source": [
        "<a href=\"https://colab.research.google.com/github/Scr3amind/ProcesamientoLenguajeNatural/blob/master/Tarea1_PLN.ipynb\" target=\"_parent\"><img src=\"https://colab.research.google.com/assets/colab-badge.svg\" alt=\"Open In Colab\"/></a>"
      ]
    },
    {
      "cell_type": "markdown",
      "metadata": {
        "id": "6G0WQVrY5BmW",
        "colab_type": "text"
      },
      "source": [
        "**Practica 1**\n",
        "\n",
        "Procesamiento de Lenguaje Natural.\n",
        "\n",
        "Facultad de Ingeniería, UNAM\n",
        "\n",
        "Cruz Santos Isaac\n"
      ]
    },
    {
      "cell_type": "markdown",
      "metadata": {
        "id": "AD75-2oFgmWB",
        "colab_type": "text"
      },
      "source": [
        "**Objetivo:** Obtener la curva de Zipf de los tipos de un corpus en escala logarítmica y determinar el parámetro α correspondiente a esa distribución.\n",
        "\n",
        "Pasos a seguir:"
      ]
    },
    {
      "cell_type": "markdown",
      "metadata": {
        "id": "ghnZPXWCgx7b",
        "colab_type": "text"
      },
      "source": [
        "*1. Escoger un corpus de cualquier idioma y de un tamaño mayor a 10 000\n",
        "tokens (se puede tomar este corpus de la paquetería nltk.corpus).*"
      ]
    },
    {
      "cell_type": "code",
      "metadata": {
        "id": "Xv-o5CtBZ9lK",
        "colab_type": "code",
        "colab": {}
      },
      "source": [
        "#Importamos los paquetes necesarios\n",
        "import nltk\n",
        "from nltk.tokenize import RegexpTokenizer\n",
        "import numpy as np\n",
        "import pandas as pd\n",
        "import nltk\n",
        "import matplotlib.pyplot as plt\n",
        "from operator import itemgetter\n",
        "from collections import Counter\n",
        "from nltk.stem.snowball import SnowballStemmer\n",
        "\n"
      ],
      "execution_count": 0,
      "outputs": []
    },
    {
      "cell_type": "code",
      "metadata": {
        "id": "t1iN2msB4xcB",
        "colab_type": "code",
        "colab": {}
      },
      "source": [
        "#Para limpiar el corpus\n",
        "tokenizer = RegexpTokenizer(r'\\w+')"
      ],
      "execution_count": 0,
      "outputs": []
    },
    {
      "cell_type": "code",
      "metadata": {
        "id": "HUvgFCmLaCbt",
        "colab_type": "code",
        "outputId": "0a8d36df-4390-4b30-8ab6-79968280f25c",
        "colab": {
          "base_uri": "https://localhost:8080/",
          "height": 72
        }
      },
      "source": [
        "nltk.download('gutenberg')"
      ],
      "execution_count": 0,
      "outputs": [
        {
          "output_type": "stream",
          "text": [
            "[nltk_data] Downloading package gutenberg to /root/nltk_data...\n",
            "[nltk_data]   Package gutenberg is already up-to-date!\n"
          ],
          "name": "stdout"
        },
        {
          "output_type": "execute_result",
          "data": {
            "text/plain": [
              "True"
            ]
          },
          "metadata": {
            "tags": []
          },
          "execution_count": 21
        }
      ]
    },
    {
      "cell_type": "code",
      "metadata": {
        "id": "b9xDAADXaUlm",
        "colab_type": "code",
        "outputId": "d1ab9143-d2a8-4f97-f6b6-00bc95f9204f",
        "colab": {
          "base_uri": "https://localhost:8080/",
          "height": 349
        }
      },
      "source": [
        "#Escogemos un corpus\n",
        "nltk.corpus.gutenberg.fileids()"
      ],
      "execution_count": 0,
      "outputs": [
        {
          "output_type": "execute_result",
          "data": {
            "text/plain": [
              "['austen-emma.txt',\n",
              " 'austen-persuasion.txt',\n",
              " 'austen-sense.txt',\n",
              " 'bible-kjv.txt',\n",
              " 'blake-poems.txt',\n",
              " 'bryant-stories.txt',\n",
              " 'burgess-busterbrown.txt',\n",
              " 'carroll-alice.txt',\n",
              " 'chesterton-ball.txt',\n",
              " 'chesterton-brown.txt',\n",
              " 'chesterton-thursday.txt',\n",
              " 'edgeworth-parents.txt',\n",
              " 'melville-moby_dick.txt',\n",
              " 'milton-paradise.txt',\n",
              " 'shakespeare-caesar.txt',\n",
              " 'shakespeare-hamlet.txt',\n",
              " 'shakespeare-macbeth.txt',\n",
              " 'whitman-leaves.txt']"
            ]
          },
          "metadata": {
            "tags": []
          },
          "execution_count": 22
        }
      ]
    },
    {
      "cell_type": "code",
      "metadata": {
        "id": "1od6cLwvaw3E",
        "colab_type": "code",
        "outputId": "1a9c1a6a-1bf7-4f7c-f52c-31c868f9c328",
        "colab": {
          "base_uri": "https://localhost:8080/",
          "height": 35
        }
      },
      "source": [
        "corpus_Melville = nltk.corpus.gutenberg.words('melville-moby_dick.txt')\n",
        "#Verificamos que cumpla con las 10,000 palabras\n",
        "len(corpus_Melville)"
      ],
      "execution_count": 0,
      "outputs": [
        {
          "output_type": "execute_result",
          "data": {
            "text/plain": [
              "260819"
            ]
          },
          "metadata": {
            "tags": []
          },
          "execution_count": 23
        }
      ]
    },
    {
      "cell_type": "markdown",
      "metadata": {
        "id": "v8Fr8grvbEQy",
        "colab_type": "text"
      },
      "source": [
        "*2. **Limpiar el corpus:** eliminar signos de puntuación, de interrogación, admiración y elementos no léxicos.*\n",
        "\n",
        "\n"
      ]
    },
    {
      "cell_type": "code",
      "metadata": {
        "id": "5M6e2uZObKv5",
        "colab_type": "code",
        "colab": {}
      },
      "source": [
        "#Limpiando el Corpus\n",
        "corpus_Melville = \" \".join(corpus_Melville)\n",
        "\n",
        "corpus_Melville= tokenizer.tokenize(corpus_Melville)#Eliminando signos de admiracion\n",
        "\n",
        "corpus_Melville = [p.lower() for p in corpus_Melville]#Todo a minusculas\n"
      ],
      "execution_count": 0,
      "outputs": []
    },
    {
      "cell_type": "markdown",
      "metadata": {
        "id": "dN4Ds_P0h791",
        "colab_type": "text"
      },
      "source": [
        "*3. Aplicar un algoritmo de Stemming a los tokens limpios.*"
      ]
    },
    {
      "cell_type": "code",
      "metadata": {
        "id": "tWEJQ-N7iJ3P",
        "colab_type": "code",
        "colab": {}
      },
      "source": [
        "#Aplicamos el algoritmo Snowball para hacer stemming\n",
        "stemmer = SnowballStemmer(\"english\")\n",
        "corpus_Melville = [stemmer.stem(p) for p in corpus_Melville]\n",
        "\n",
        "\n"
      ],
      "execution_count": 0,
      "outputs": []
    },
    {
      "cell_type": "markdown",
      "metadata": {
        "id": "aLW5ruxWi607",
        "colab_type": "text"
      },
      "source": [
        "*4. Obtener las frecuencias de los tipos en el corpus.*"
      ]
    },
    {
      "cell_type": "code",
      "metadata": {
        "id": "7TZKVfTOjQyd",
        "colab_type": "code",
        "colab": {}
      },
      "source": [
        "#Obteniendo las frecuencias\n",
        "word_freqs = Counter(corpus_Melville)\n",
        "\n",
        "#Ordenando las frecuencias de mayor a menor\n",
        "word_freqs = sorted(word_freqs.items(), key=itemgetter(1), reverse=True)\n",
        "\n",
        "freqs = np.array([pair[1] for pair in word_freqs])\n"
      ],
      "execution_count": 0,
      "outputs": []
    },
    {
      "cell_type": "markdown",
      "metadata": {
        "id": "N65lnB0cjXwe",
        "colab_type": "text"
      },
      "source": [
        "*5. Ordenar por el rango estadístico de mayor a menor.*\n",
        "\n"
      ]
    },
    {
      "cell_type": "code",
      "metadata": {
        "id": "eM6hO_hsjdjo",
        "colab_type": "code",
        "colab": {}
      },
      "source": [
        "#Número de tipos N\n",
        "N = len(freqs)\n",
        "#Obtiendo los rangos\n",
        "ranks = np.array(range(1,N+1))\n",
        "\n",
        "#Obteniendo los logaritmos\n",
        "log_freqs = np.log(freqs)\n",
        "log_ranks = np.log(ranks)\n",
        "\n"
      ],
      "execution_count": 0,
      "outputs": []
    },
    {
      "cell_type": "markdown",
      "metadata": {
        "id": "yN4H9nXEkLKt",
        "colab_type": "text"
      },
      "source": [
        "*6. Graficar el diagrama de dispersión rango-frecuencia en escala logarítmica.*"
      ]
    },
    {
      "cell_type": "code",
      "metadata": {
        "id": "SqQ1W9MokUYB",
        "colab_type": "code",
        "outputId": "9883598e-70e7-4396-d5a2-d7b71a9645a4",
        "colab": {
          "base_uri": "https://localhost:8080/",
          "height": 573
        }
      },
      "source": [
        "#Graficando\n",
        "\n",
        "plt.scatter(ranks, freqs)\n",
        "plt.xlabel('Rangos')\n",
        "plt.ylabel('Frecuencias')\n",
        "plt.title('Rango-Frecuencias Melville')\n",
        "plt.show()\n",
        "\n",
        "plt.scatter(log_ranks, log_freqs)\n",
        "plt.xlabel('log rangos')\n",
        "plt.ylabel('log frecuencias')\n",
        "plt.title('Rango-Frecuencias Melville (log)')\n",
        "plt.show()"
      ],
      "execution_count": 0,
      "outputs": [
        {
          "output_type": "display_data",
          "data": {
            "image/png": "[encoded data removed]",
            "text/plain": [
              "<Figure size 432x288 with 1 Axes>"
            ]
          },
          "metadata": {
            "tags": []
          }
        },
        {
          "output_type": "display_data",
          "data": {
            "image/png": "[encoded data removed]",
            "text/plain": [
              "<Figure size 432x288 with 1 Axes>"
            ]
          },
          "metadata": {
            "tags": []
          }
        }
      ]
    },
    {
      "cell_type": "markdown",
      "metadata": {
        "id": "Je7ugsxDkjJ2",
        "colab_type": "text"
      },
      "source": [
        "7. Obtener el parámetro de la distribución de Zipf, α (a partir de un procedimiento de regresión).\n"
      ]
    },
    {
      "cell_type": "code",
      "metadata": {
        "id": "AHeISUeL6vd1",
        "colab_type": "code",
        "outputId": "86b37891-d9f1-4ccc-a1f1-53a73b7f3900",
        "colab": {
          "base_uri": "https://localhost:8080/",
          "height": 313
        }
      },
      "source": [
        "#Rangos\n",
        "ranks_data = pd.DataFrame(data=log_ranks, columns=['log rangos'])\n",
        "#Frecuencias\n",
        "freqs_data = pd.DataFrame(data=log_freqs, columns=['log frecuencias'])\n",
        "#Rangos y frecuencias\n",
        "zipf = freqs_data.join(ranks_data)\n",
        "\n",
        "#Estimación de parámetro\n",
        "std_coeff = float(ranks_data.std())/float(ranks_data.std())\n",
        "a = float(zipf.corr()['log rangos']['log frecuencias'])*std_coeff\n",
        "\n",
        "print(a)\n",
        "\n",
        "#Ploteo\n",
        "plt.scatter(log_ranks, log_freqs, s=1, label='Datos originales')\n",
        "plt.plot(log_ranks, a*log_ranks+log_freqs[0], c='r', label='Aproximación')\n",
        "plt.xlabel('log rangos')\n",
        "plt.ylabel('log frcuencias')\n",
        "plt.title('Aproximación a curva Zipf')\n",
        "plt.legend(bbox_to_anchor=(1, 1))\n",
        "plt.show()"
      ],
      "execution_count": 0,
      "outputs": [
        {
          "output_type": "stream",
          "text": [
            "-0.9854367912419058\n"
          ],
          "name": "stdout"
        },
        {
          "output_type": "display_data",
          "data": {
            "image/png": "[encoded data removed]",
            "text/plain": [
              "<Figure size 432x288 with 1 Axes>"
            ]
          },
          "metadata": {
            "tags": []
          }
        }
      ]
    },
    {
      "cell_type": "code",
      "metadata": {
        "id": "82TBb24a5ERz",
        "colab_type": "code",
        "colab": {}
      },
      "source": [
        ""
      ],
      "execution_count": 0,
      "outputs": []
    }
  ]
}